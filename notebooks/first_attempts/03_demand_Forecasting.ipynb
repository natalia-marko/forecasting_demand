{
 "cells": [
  {
   "cell_type": "markdown",
   "metadata": {},
   "source": [
    "# 1. Project Context\n",
    "\n",
    "## Business Problem - Forecast product demand 2 weeks ahead to optimize inventory management and reduce stockouts/overstock situations.\n",
    "\n",
    "## Technical Challenges\n",
    "- **Extreme sparsity**: 99% zero demand values in daily data\n",
    "- **Temporal patterns**: Seasonal and holiday effects\n",
    "- **Category diversity**: 71 different product categories with unique demand patterns\n",
    "- **Forecast horizon**: 2-week ahead prediction with 1-week gap"
   ]
  },
  {
   "cell_type": "markdown",
   "metadata": {},
   "source": [
    "## Solution Approach\n",
    "\n",
    "**Data Granularity**: from Daily → Weekly aggregation predictions with category-specific models  \n",
    "\n",
    "**Time Horizon**: Current week (T) → Target week (T+2)  \n"
   ]
  },
  {
   "cell_type": "markdown",
   "metadata": {
    "vscode": {
     "languageId": "raw"
    }
   },
   "source": [
    "# 2. Setup & Data Loading\n",
    "\n",
    "Import required libraries and load the preprocessed daily demand data from notebook 01.\n"
   ]
  },
  {
   "cell_type": "code",
   "execution_count": 1,
   "metadata": {},
   "outputs": [],
   "source": [
    "# Import essential libraries\n",
    "import pandas as pd\n",
    "import numpy as np\n",
    "import matplotlib.pyplot as plt\n",
    "import seaborn as sns\n",
    "\n",
    "# Machine learning libraries\n",
    "from sklearn.model_selection import train_test_split\n",
    "from sklearn.metrics import mean_absolute_error, r2_score, mean_squared_log_error\n",
    "from lightgbm import LGBMRegressor\n",
    "\n",
    "# Holiday calendar library\n",
    "import holidays\n",
    "from datetime import datetime\n",
    "\n",
    "# Custom utilities\n",
    "from model_utils import plot_prediction_dashboard\n",
    "\n",
    "# Configure display settings\n",
    "import warnings\n",
    "warnings.filterwarnings('ignore')\n",
    "\n",
    "plt.style.use('seaborn-v0_8')\n",
    "plt.rcParams['figure.figsize'] = (12, 6)\n"
   ]
  },
  {
   "cell_type": "code",
   "execution_count": 2,
   "metadata": {},
   "outputs": [
    {
     "name": "stdout",
     "output_type": "stream",
     "text": [
      "Data loaded successfully!\n",
      "Dataset size: 23,599,542 rows × 5 columns\n",
      "Date range: 2016-09-04 to 2018-09-03\n",
      "Product categories: 71\n",
      "Unique products: 32,328\n"
     ]
    },
    {
     "data": {
      "text/html": [
       "<div>\n",
       "<style scoped>\n",
       "    .dataframe tbody tr th:only-of-type {\n",
       "        vertical-align: middle;\n",
       "    }\n",
       "\n",
       "    .dataframe tbody tr th {\n",
       "        vertical-align: top;\n",
       "    }\n",
       "\n",
       "    .dataframe thead th {\n",
       "        text-align: right;\n",
       "    }\n",
       "</style>\n",
       "<table border=\"1\" class=\"dataframe\">\n",
       "  <thead>\n",
       "    <tr style=\"text-align: right;\">\n",
       "      <th></th>\n",
       "      <th>order_date</th>\n",
       "      <th>product_id</th>\n",
       "      <th>categ</th>\n",
       "      <th>price</th>\n",
       "      <th>demand</th>\n",
       "    </tr>\n",
       "  </thead>\n",
       "  <tbody>\n",
       "    <tr>\n",
       "      <th>0</th>\n",
       "      <td>2016-09-04</td>\n",
       "      <td>c1488892604e4ba5cff5b4eb4d595400</td>\n",
       "      <td>furniture_decor</td>\n",
       "      <td>38.5</td>\n",
       "      <td>1.0</td>\n",
       "    </tr>\n",
       "    <tr>\n",
       "      <th>1</th>\n",
       "      <td>2016-09-05</td>\n",
       "      <td>c1488892604e4ba5cff5b4eb4d595400</td>\n",
       "      <td>furniture_decor</td>\n",
       "      <td>38.5</td>\n",
       "      <td>0.0</td>\n",
       "    </tr>\n",
       "    <tr>\n",
       "      <th>2</th>\n",
       "      <td>2016-09-06</td>\n",
       "      <td>c1488892604e4ba5cff5b4eb4d595400</td>\n",
       "      <td>furniture_decor</td>\n",
       "      <td>38.5</td>\n",
       "      <td>0.0</td>\n",
       "    </tr>\n",
       "    <tr>\n",
       "      <th>3</th>\n",
       "      <td>2016-09-07</td>\n",
       "      <td>c1488892604e4ba5cff5b4eb4d595400</td>\n",
       "      <td>furniture_decor</td>\n",
       "      <td>38.5</td>\n",
       "      <td>0.0</td>\n",
       "    </tr>\n",
       "    <tr>\n",
       "      <th>4</th>\n",
       "      <td>2016-09-08</td>\n",
       "      <td>c1488892604e4ba5cff5b4eb4d595400</td>\n",
       "      <td>furniture_decor</td>\n",
       "      <td>38.5</td>\n",
       "      <td>0.0</td>\n",
       "    </tr>\n",
       "  </tbody>\n",
       "</table>\n",
       "</div>"
      ],
      "text/plain": [
       "   order_date                        product_id            categ  price  \\\n",
       "0  2016-09-04  c1488892604e4ba5cff5b4eb4d595400  furniture_decor   38.5   \n",
       "1  2016-09-05  c1488892604e4ba5cff5b4eb4d595400  furniture_decor   38.5   \n",
       "2  2016-09-06  c1488892604e4ba5cff5b4eb4d595400  furniture_decor   38.5   \n",
       "3  2016-09-07  c1488892604e4ba5cff5b4eb4d595400  furniture_decor   38.5   \n",
       "4  2016-09-08  c1488892604e4ba5cff5b4eb4d595400  furniture_decor   38.5   \n",
       "\n",
       "   demand  \n",
       "0     1.0  \n",
       "1     0.0  \n",
       "2     0.0  \n",
       "3     0.0  \n",
       "4     0.0  "
      ]
     },
     "execution_count": 2,
     "metadata": {},
     "output_type": "execute_result"
    }
   ],
   "source": [
    "# Load preprocessed daily demand data\n",
    "# Source: notebook 01 data preprocessing pipeline\n",
    "data = pd.read_csv('../outputs/demand_data_pp.csv')\n",
    "print(\"Data loaded successfully!\")\n",
    "\n",
    "# Dataset overview\n",
    "print(f\"Dataset size: {data.shape[0]:,} rows × {data.shape[1]} columns\")\n",
    "print(f\"Date range: {data['order_date'].min()} to {data['order_date'].max()}\")\n",
    "print(f\"Product categories: {data['categ'].nunique()}\")\n",
    "print(f\"Unique products: {data['product_id'].nunique():,}\")\n",
    "\n",
    "# Display sample data\n",
    "data.head()"
   ]
  },
  {
   "cell_type": "markdown",
   "metadata": {
    "vscode": {
     "languageId": "raw"
    }
   },
   "source": [
    "# 3. Data Aggregation Strategy\n",
    "\n",
    "Transform daily demand data to weekly aggregation to reduce sparsity while preserving temporal patterns.\n"
   ]
  },
  {
   "cell_type": "markdown",
   "metadata": {},
   "source": [
    "## Sparsity Challenge\n",
    "\n",
    "Daily product-level data creates extreme sparsity (99% zeros) due to:\n",
    "- Many products sold infrequently\n",
    "- Large product catalog with varied demand patterns  \n",
    "- Natural intermittent demand patterns\n",
    "\n",
    "**Solution**: Aggregate to weekly level to reduce sparsity while maintaining temporal structure."
   ]
  },
  {
   "cell_type": "code",
   "execution_count": 3,
   "metadata": {},
   "outputs": [
    {
     "name": "stdout",
     "output_type": "stream",
     "text": [
      "Aggregation complete: 23,599,542 daily rows → 3,426,768 weekly rows\n"
     ]
    },
    {
     "data": {
      "text/html": [
       "<div>\n",
       "<style scoped>\n",
       "    .dataframe tbody tr th:only-of-type {\n",
       "        vertical-align: middle;\n",
       "    }\n",
       "\n",
       "    .dataframe tbody tr th {\n",
       "        vertical-align: top;\n",
       "    }\n",
       "\n",
       "    .dataframe thead th {\n",
       "        text-align: right;\n",
       "    }\n",
       "</style>\n",
       "<table border=\"1\" class=\"dataframe\">\n",
       "  <thead>\n",
       "    <tr style=\"text-align: right;\">\n",
       "      <th></th>\n",
       "      <th>product_id</th>\n",
       "      <th>categ</th>\n",
       "      <th>week</th>\n",
       "      <th>demand</th>\n",
       "      <th>price</th>\n",
       "    </tr>\n",
       "  </thead>\n",
       "  <tbody>\n",
       "    <tr>\n",
       "      <th>0</th>\n",
       "      <td>00066f42aeeb9f3007548bb9d3f33c38</td>\n",
       "      <td>perfumery</td>\n",
       "      <td>2016-08-29</td>\n",
       "      <td>0.0</td>\n",
       "      <td>101.65</td>\n",
       "    </tr>\n",
       "    <tr>\n",
       "      <th>1</th>\n",
       "      <td>00066f42aeeb9f3007548bb9d3f33c38</td>\n",
       "      <td>perfumery</td>\n",
       "      <td>2016-09-05</td>\n",
       "      <td>0.0</td>\n",
       "      <td>101.65</td>\n",
       "    </tr>\n",
       "    <tr>\n",
       "      <th>2</th>\n",
       "      <td>00066f42aeeb9f3007548bb9d3f33c38</td>\n",
       "      <td>perfumery</td>\n",
       "      <td>2016-09-12</td>\n",
       "      <td>0.0</td>\n",
       "      <td>101.65</td>\n",
       "    </tr>\n",
       "    <tr>\n",
       "      <th>3</th>\n",
       "      <td>00066f42aeeb9f3007548bb9d3f33c38</td>\n",
       "      <td>perfumery</td>\n",
       "      <td>2016-09-19</td>\n",
       "      <td>0.0</td>\n",
       "      <td>101.65</td>\n",
       "    </tr>\n",
       "    <tr>\n",
       "      <th>4</th>\n",
       "      <td>00066f42aeeb9f3007548bb9d3f33c38</td>\n",
       "      <td>perfumery</td>\n",
       "      <td>2016-09-26</td>\n",
       "      <td>0.0</td>\n",
       "      <td>101.65</td>\n",
       "    </tr>\n",
       "  </tbody>\n",
       "</table>\n",
       "</div>"
      ],
      "text/plain": [
       "                         product_id      categ       week  demand   price\n",
       "0  00066f42aeeb9f3007548bb9d3f33c38  perfumery 2016-08-29     0.0  101.65\n",
       "1  00066f42aeeb9f3007548bb9d3f33c38  perfumery 2016-09-05     0.0  101.65\n",
       "2  00066f42aeeb9f3007548bb9d3f33c38  perfumery 2016-09-12     0.0  101.65\n",
       "3  00066f42aeeb9f3007548bb9d3f33c38  perfumery 2016-09-19     0.0  101.65\n",
       "4  00066f42aeeb9f3007548bb9d3f33c38  perfumery 2016-09-26     0.0  101.65"
      ]
     },
     "execution_count": 3,
     "metadata": {},
     "output_type": "execute_result"
    }
   ],
   "source": [
    "# Convert daily data to weekly aggregation\n",
    "df = data.copy()\n",
    "df['order_date'] = pd.to_datetime(df['order_date'])\n",
    "\n",
    "# Create weekly periods starting Monday\n",
    "df['week'] = df['order_date'].dt.to_period('W').apply(lambda r: r.start_time)\n",
    "\n",
    "# Aggregate to weekly level by product and category\n",
    "weekly_df = df.groupby(['product_id', 'categ', 'week']).agg({\n",
    "    'demand': 'sum',      # Total weekly demand per product\n",
    "    'price': 'mean',      # Average weekly price per product\n",
    "}).reset_index()\n",
    "\n",
    "print(f\"Aggregation complete: {len(df):,} daily rows → {len(weekly_df):,} weekly rows\")\n",
    "weekly_df.head()"
   ]
  },
  {
   "cell_type": "markdown",
   "metadata": {},
   "source": [
    "## Feature Categories\n",
    "\n",
    "Our feature engineering approach creates several types of predictive features:"
   ]
  },
  {
   "cell_type": "markdown",
   "metadata": {},
   "source": [
    "- **Temporal Features**: Historical demand patterns (lags, rolling averages)\n",
    "- **Price Features**: Price levels and changes over time  \n",
    "- **Calendar Features**: Seasonality, holidays, and special periods\n",
    "- **Category Features**: Category-specific demand patterns and trends\n"
   ]
  },
  {
   "cell_type": "markdown",
   "metadata": {
    "vscode": {
     "languageId": "raw"
    }
   },
   "source": [
    "### Temporal Features\n",
    "\n",
    "Historical demand patterns to capture trend and seasonality information.\n"
   ]
  },
  {
   "cell_type": "code",
   "execution_count": 4,
   "metadata": {},
   "outputs": [
    {
     "name": "stdout",
     "output_type": "stream",
     "text": [
      "Creating essential temporal features...\n",
      "✅ Essential temporal features created\n"
     ]
    }
   ],
   "source": [
    "# Lag features: Historical demand patterns\n",
    "# Sort by product and time to ensure consistent lag calculation\n",
    "print(\"Creating essential temporal features...\")\n",
    "\n",
    "# Sort by product and time \n",
    "weekly_df = weekly_df.sort_values(['product_id', 'week'])\n",
    "\n",
    "# Core lag features \n",
    "weekly_df['lag_1w'] = weekly_df.groupby('product_id')['demand'].shift(1)\n",
    "weekly_df['lag_2w'] = weekly_df.groupby('product_id')['demand'].shift(2)\n",
    "\n",
    "# Rolling mean, recent volatility\n",
    "weekly_df['rolling_mean_4w'] = (\n",
    "    weekly_df.groupby('product_id')['demand']\n",
    "    .transform(lambda x: x.shift(1).rolling(window=4, min_periods=1).mean())\n",
    ")\n",
    "# Simple trend (works better than complex ones)\n",
    "weekly_df['simple_trend'] = weekly_df.groupby('product_id')['demand'].transform(\n",
    "    lambda x: x.rolling(2).mean() - x.rolling(4).mean()\n",
    ")\n",
    "\n",
    "# Fill missing values\n",
    "weekly_df['lag_1w'] = weekly_df['lag_1w'].fillna(0)\n",
    "weekly_df['lag_2w'] = weekly_df['lag_2w'].fillna(0)\n",
    "weekly_df['rolling_mean_4w'] = weekly_df['rolling_mean_4w'].fillna(0)\n",
    "weekly_df['simple_trend'] = weekly_df['simple_trend'].fillna(0) \n",
    "\n",
    "print(\"✅ Essential temporal features created\")\n"
   ]
  },
  {
   "cell_type": "markdown",
   "metadata": {
    "vscode": {
     "languageId": "raw"
    }
   },
   "source": [
    "### Price Features\n",
    "\n",
    "Price dynamics and changes that may impact demand patterns.\n"
   ]
  },
  {
   "cell_type": "code",
   "execution_count": 5,
   "metadata": {},
   "outputs": [
    {
     "name": "stdout",
     "output_type": "stream",
     "text": [
      "Creating price features...\n",
      "Price features created: price_change, price_change_pct\n"
     ]
    }
   ],
   "source": [
    "print(\"Creating price features...\")\n",
    "\n",
    "# Price change features: Impact of price dynamics on demand\n",
    "weekly_df['price_change'] = (weekly_df.groupby('product_id')['price'].diff())\n",
    "\n",
    "# Price change percentage for better interpretability\n",
    "weekly_df['price_change_pct'] = (weekly_df.groupby('product_id')['price'].pct_change())\n",
    "\n",
    "# Price relative to category (very powerful for demand prediction)\n",
    "weekly_df['price_vs_category'] = (\n",
    "    weekly_df['price'] / \n",
    "    weekly_df.groupby('categ')['price'].transform('mean')\n",
    ")\n",
    "\n",
    "# Fill missing values for price features\n",
    "price_features = ['price_change', 'price_change_pct']\n",
    "for col in price_features:\n",
    "    weekly_df[col] = weekly_df[col].fillna(0)\n",
    "\n",
    "print(\"Price features created: price_change, price_change_pct\")\n"
   ]
  },
  {
   "cell_type": "markdown",
   "metadata": {
    "vscode": {
     "languageId": "raw"
    }
   },
   "source": [
    "### Calendar & Holiday Features\n",
    "\n",
    "Seasonal patterns, holidays, and special periods that significantly impact demand patterns.\n"
   ]
  },
  {
   "cell_type": "code",
   "execution_count": 6,
   "metadata": {},
   "outputs": [
    {
     "name": "stdout",
     "output_type": "stream",
     "text": [
      "Creating essential calendar features...\n",
      "✅ Essential calendar features created\n"
     ]
    }
   ],
   "source": [
    "print(\"Creating essential calendar features...\")\n",
    "\n",
    "# Ensure datetime format for calendar calculations\n",
    "weekly_df['week'] = pd.to_datetime(weekly_df['week'])\n",
    "weekly_df['month'] = weekly_df['week'].dt.month\n",
    "weekly_df['weekofyear'] = weekly_df['week'].dt.isocalendar().week\n",
    "\n",
    "def calculate_days_to_christmas(date):\n",
    "    year = date.year\n",
    "    christmas_current = pd.Timestamp(f'{year}-12-25')\n",
    "    christmas_next = pd.Timestamp(f'{year+1}-12-25')\n",
    "    return (christmas_current - date).days if date <= christmas_current else (christmas_next - date).days\n",
    "\n",
    "def calculate_days_from_christmas(date):\n",
    "    year = date.year\n",
    "    christmas_current = pd.Timestamp(f'{year}-12-25')\n",
    "    christmas_prev = pd.Timestamp(f'{year-1}-12-25')\n",
    "    return (date - christmas_current).days if date >= christmas_current else (date - christmas_prev).days\n",
    "\n",
    "weekly_df['days_to_christmas'] = weekly_df['week'].apply(calculate_days_to_christmas)\n",
    "weekly_df['days_from_christmas'] = weekly_df['week'].apply(calculate_days_from_christmas)\n",
    "\n",
    "print(\"✅ Essential calendar features created\")\n"
   ]
  },
  {
   "cell_type": "code",
   "execution_count": 7,
   "metadata": {},
   "outputs": [
    {
     "name": "stdout",
     "output_type": "stream",
     "text": [
      "Creating category demand volatility...\n",
      "✅ Category volatility feature created\n"
     ]
    }
   ],
   "source": [
    "\n",
    "print(\"Creating category demand volatility...\")\n",
    "\n",
    "weekly_df['cat_demand_volatility'] = (\n",
    "    weekly_df.groupby('categ')['demand']\n",
    "    .transform(lambda x: x.shift(1).rolling(window=8, min_periods=1).std())\n",
    ")\n",
    "\n",
    "# Fill missing values\n",
    "weekly_df['cat_demand_volatility'] = weekly_df.groupby('categ')['cat_demand_volatility'].transform(\n",
    "    lambda x: x.fillna(x.mean())\n",
    ")\n",
    "\n",
    "print(\"✅ Category volatility feature created\")"
   ]
  },
  {
   "cell_type": "code",
   "execution_count": 8,
   "metadata": {},
   "outputs": [
    {
     "name": "stdout",
     "output_type": "stream",
     "text": [
      "Checking missing values...\n",
      "Missing values after treatment: 0\n",
      "✅ Missing values handled successfully!\n"
     ]
    }
   ],
   "source": [
    "# Simple but efficient missing value treatment\n",
    "print(\"Checking missing values...\")\n",
    "\n",
    "# Verify missing values are handled\n",
    "missing_after = weekly_df.isnull().sum().sum()\n",
    "print(f\"Missing values after treatment: {missing_after}\")\n",
    "print(\"✅ Missing values handled successfully!\")\n"
   ]
  },
  {
   "cell_type": "markdown",
   "metadata": {
    "vscode": {
     "languageId": "raw"
    }
   },
   "source": [
    "# 8. Data Inspection\n",
    "\n",
    "Review the final engineered dataset before export to ensure all features are properly created.\n"
   ]
  },
  {
   "cell_type": "code",
   "execution_count": 9,
   "metadata": {},
   "outputs": [
    {
     "name": "stdout",
     "output_type": "stream",
     "text": [
      "Final dataset overview:\n",
      "Shape: (3426768, 17)\n",
      "Date range: 2016-08-29 00:00:00 to 2018-09-03 00:00:00\n",
      "Features: ['product_id', 'categ', 'week', 'demand', 'price', 'lag_1w', 'lag_2w', 'rolling_mean_4w', 'simple_trend', 'price_change', 'price_change_pct', 'price_vs_category', 'month', 'weekofyear', 'days_to_christmas', 'days_from_christmas', 'cat_demand_volatility']\n",
      "\n",
      "Sample data with engineered features:\n"
     ]
    },
    {
     "data": {
      "text/html": [
       "<div>\n",
       "<style scoped>\n",
       "    .dataframe tbody tr th:only-of-type {\n",
       "        vertical-align: middle;\n",
       "    }\n",
       "\n",
       "    .dataframe tbody tr th {\n",
       "        vertical-align: top;\n",
       "    }\n",
       "\n",
       "    .dataframe thead th {\n",
       "        text-align: right;\n",
       "    }\n",
       "</style>\n",
       "<table border=\"1\" class=\"dataframe\">\n",
       "  <thead>\n",
       "    <tr style=\"text-align: right;\">\n",
       "      <th></th>\n",
       "      <th>count</th>\n",
       "      <th>mean</th>\n",
       "      <th>min</th>\n",
       "      <th>25%</th>\n",
       "      <th>50%</th>\n",
       "      <th>75%</th>\n",
       "      <th>max</th>\n",
       "      <th>std</th>\n",
       "    </tr>\n",
       "  </thead>\n",
       "  <tbody>\n",
       "    <tr>\n",
       "      <th>week</th>\n",
       "      <td>3426768</td>\n",
       "      <td>2017-08-31 11:59:59.999999744</td>\n",
       "      <td>2016-08-29 00:00:00</td>\n",
       "      <td>2017-02-27 00:00:00</td>\n",
       "      <td>2017-08-31 12:00:00</td>\n",
       "      <td>2018-03-05 00:00:00</td>\n",
       "      <td>2018-09-03 00:00:00</td>\n",
       "      <td>NaN</td>\n",
       "    </tr>\n",
       "    <tr>\n",
       "      <th>demand</th>\n",
       "      <td>3426768.0</td>\n",
       "      <td>0.032399</td>\n",
       "      <td>0.0</td>\n",
       "      <td>0.0</td>\n",
       "      <td>0.0</td>\n",
       "      <td>0.0</td>\n",
       "      <td>59.0</td>\n",
       "      <td>0.297908</td>\n",
       "    </tr>\n",
       "    <tr>\n",
       "      <th>price</th>\n",
       "      <td>3426768.0</td>\n",
       "      <td>145.031396</td>\n",
       "      <td>0.85</td>\n",
       "      <td>39.9</td>\n",
       "      <td>79.0</td>\n",
       "      <td>154.9</td>\n",
       "      <td>6735.0</td>\n",
       "      <td>245.495009</td>\n",
       "    </tr>\n",
       "    <tr>\n",
       "      <th>lag_1w</th>\n",
       "      <td>3426768.0</td>\n",
       "      <td>0.032398</td>\n",
       "      <td>0.0</td>\n",
       "      <td>0.0</td>\n",
       "      <td>0.0</td>\n",
       "      <td>0.0</td>\n",
       "      <td>59.0</td>\n",
       "      <td>0.297907</td>\n",
       "    </tr>\n",
       "    <tr>\n",
       "      <th>lag_2w</th>\n",
       "      <td>3426768.0</td>\n",
       "      <td>0.032361</td>\n",
       "      <td>0.0</td>\n",
       "      <td>0.0</td>\n",
       "      <td>0.0</td>\n",
       "      <td>0.0</td>\n",
       "      <td>59.0</td>\n",
       "      <td>0.297824</td>\n",
       "    </tr>\n",
       "    <tr>\n",
       "      <th>rolling_mean_4w</th>\n",
       "      <td>3426768.0</td>\n",
       "      <td>0.032048</td>\n",
       "      <td>0.0</td>\n",
       "      <td>0.0</td>\n",
       "      <td>0.0</td>\n",
       "      <td>0.0</td>\n",
       "      <td>46.5</td>\n",
       "      <td>0.214781</td>\n",
       "    </tr>\n",
       "    <tr>\n",
       "      <th>simple_trend</th>\n",
       "      <td>3426768.0</td>\n",
       "      <td>0.000105</td>\n",
       "      <td>-25.5</td>\n",
       "      <td>0.0</td>\n",
       "      <td>0.0</td>\n",
       "      <td>0.0</td>\n",
       "      <td>17.75</td>\n",
       "      <td>0.126257</td>\n",
       "    </tr>\n",
       "    <tr>\n",
       "      <th>price_change</th>\n",
       "      <td>3426768.0</td>\n",
       "      <td>0.0</td>\n",
       "      <td>-0.0</td>\n",
       "      <td>0.0</td>\n",
       "      <td>0.0</td>\n",
       "      <td>0.0</td>\n",
       "      <td>0.0</td>\n",
       "      <td>0.0</td>\n",
       "    </tr>\n",
       "    <tr>\n",
       "      <th>price_change_pct</th>\n",
       "      <td>3426768.0</td>\n",
       "      <td>0.0</td>\n",
       "      <td>-0.0</td>\n",
       "      <td>0.0</td>\n",
       "      <td>0.0</td>\n",
       "      <td>0.0</td>\n",
       "      <td>0.0</td>\n",
       "      <td>0.0</td>\n",
       "    </tr>\n",
       "    <tr>\n",
       "      <th>price_vs_category</th>\n",
       "      <td>3426768.0</td>\n",
       "      <td>1.0</td>\n",
       "      <td>0.004881</td>\n",
       "      <td>0.320595</td>\n",
       "      <td>0.597604</td>\n",
       "      <td>1.131311</td>\n",
       "      <td>68.721102</td>\n",
       "      <td>1.502735</td>\n",
       "    </tr>\n",
       "    <tr>\n",
       "      <th>month</th>\n",
       "      <td>3426768.0</td>\n",
       "      <td>6.471698</td>\n",
       "      <td>1.0</td>\n",
       "      <td>4.0</td>\n",
       "      <td>7.0</td>\n",
       "      <td>9.0</td>\n",
       "      <td>12.0</td>\n",
       "      <td>3.429087</td>\n",
       "    </tr>\n",
       "    <tr>\n",
       "      <th>weekofyear</th>\n",
       "      <td>3426768.0</td>\n",
       "      <td>26.669811</td>\n",
       "      <td>1.0</td>\n",
       "      <td>14.0</td>\n",
       "      <td>27.0</td>\n",
       "      <td>39.0</td>\n",
       "      <td>52.0</td>\n",
       "      <td>14.916576</td>\n",
       "    </tr>\n",
       "    <tr>\n",
       "      <th>days_to_christmas</th>\n",
       "      <td>3426768.0</td>\n",
       "      <td>180.924528</td>\n",
       "      <td>0.0</td>\n",
       "      <td>91.0</td>\n",
       "      <td>179.0</td>\n",
       "      <td>273.0</td>\n",
       "      <td>364.0</td>\n",
       "      <td>104.870708</td>\n",
       "    </tr>\n",
       "    <tr>\n",
       "      <th>days_from_christmas</th>\n",
       "      <td>3426768.0</td>\n",
       "      <td>180.792453</td>\n",
       "      <td>0.0</td>\n",
       "      <td>91.0</td>\n",
       "      <td>182.5</td>\n",
       "      <td>269.0</td>\n",
       "      <td>360.0</td>\n",
       "      <td>105.053525</td>\n",
       "    </tr>\n",
       "    <tr>\n",
       "      <th>cat_demand_volatility</th>\n",
       "      <td>3426768.0</td>\n",
       "      <td>0.06475</td>\n",
       "      <td>0.0</td>\n",
       "      <td>0.0</td>\n",
       "      <td>0.0</td>\n",
       "      <td>0.0</td>\n",
       "      <td>26.256632</td>\n",
       "      <td>0.23758</td>\n",
       "    </tr>\n",
       "  </tbody>\n",
       "</table>\n",
       "</div>"
      ],
      "text/plain": [
       "                           count                           mean  \\\n",
       "week                     3426768  2017-08-31 11:59:59.999999744   \n",
       "demand                 3426768.0                       0.032399   \n",
       "price                  3426768.0                     145.031396   \n",
       "lag_1w                 3426768.0                       0.032398   \n",
       "lag_2w                 3426768.0                       0.032361   \n",
       "rolling_mean_4w        3426768.0                       0.032048   \n",
       "simple_trend           3426768.0                       0.000105   \n",
       "price_change           3426768.0                            0.0   \n",
       "price_change_pct       3426768.0                            0.0   \n",
       "price_vs_category      3426768.0                            1.0   \n",
       "month                  3426768.0                       6.471698   \n",
       "weekofyear             3426768.0                      26.669811   \n",
       "days_to_christmas      3426768.0                     180.924528   \n",
       "days_from_christmas    3426768.0                     180.792453   \n",
       "cat_demand_volatility  3426768.0                        0.06475   \n",
       "\n",
       "                                       min                  25%  \\\n",
       "week                   2016-08-29 00:00:00  2017-02-27 00:00:00   \n",
       "demand                                 0.0                  0.0   \n",
       "price                                 0.85                 39.9   \n",
       "lag_1w                                 0.0                  0.0   \n",
       "lag_2w                                 0.0                  0.0   \n",
       "rolling_mean_4w                        0.0                  0.0   \n",
       "simple_trend                         -25.5                  0.0   \n",
       "price_change                          -0.0                  0.0   \n",
       "price_change_pct                      -0.0                  0.0   \n",
       "price_vs_category                 0.004881             0.320595   \n",
       "month                                  1.0                  4.0   \n",
       "weekofyear                             1.0                 14.0   \n",
       "days_to_christmas                      0.0                 91.0   \n",
       "days_from_christmas                    0.0                 91.0   \n",
       "cat_demand_volatility                  0.0                  0.0   \n",
       "\n",
       "                                       50%                  75%  \\\n",
       "week                   2017-08-31 12:00:00  2018-03-05 00:00:00   \n",
       "demand                                 0.0                  0.0   \n",
       "price                                 79.0                154.9   \n",
       "lag_1w                                 0.0                  0.0   \n",
       "lag_2w                                 0.0                  0.0   \n",
       "rolling_mean_4w                        0.0                  0.0   \n",
       "simple_trend                           0.0                  0.0   \n",
       "price_change                           0.0                  0.0   \n",
       "price_change_pct                       0.0                  0.0   \n",
       "price_vs_category                 0.597604             1.131311   \n",
       "month                                  7.0                  9.0   \n",
       "weekofyear                            27.0                 39.0   \n",
       "days_to_christmas                    179.0                273.0   \n",
       "days_from_christmas                  182.5                269.0   \n",
       "cat_demand_volatility                  0.0                  0.0   \n",
       "\n",
       "                                       max         std  \n",
       "week                   2018-09-03 00:00:00         NaN  \n",
       "demand                                59.0    0.297908  \n",
       "price                               6735.0  245.495009  \n",
       "lag_1w                                59.0    0.297907  \n",
       "lag_2w                                59.0    0.297824  \n",
       "rolling_mean_4w                       46.5    0.214781  \n",
       "simple_trend                         17.75    0.126257  \n",
       "price_change                           0.0         0.0  \n",
       "price_change_pct                       0.0         0.0  \n",
       "price_vs_category                68.721102    1.502735  \n",
       "month                                 12.0    3.429087  \n",
       "weekofyear                            52.0   14.916576  \n",
       "days_to_christmas                    364.0  104.870708  \n",
       "days_from_christmas                  360.0  105.053525  \n",
       "cat_demand_volatility            26.256632     0.23758  "
      ]
     },
     "execution_count": 9,
     "metadata": {},
     "output_type": "execute_result"
    }
   ],
   "source": [
    "# Display final dataset structure\n",
    "print(\"Final dataset overview:\")\n",
    "print(f\"Shape: {weekly_df.shape}\")\n",
    "print(f\"Date range: {weekly_df['week'].min()} to {weekly_df['week'].max()}\")\n",
    "print(f\"Features: {list(weekly_df.columns)}\")\n",
    "\n",
    "# Sample of engineered features\n",
    "print(\"\\nSample data with engineered features:\")\n",
    "weekly_df.describe().T"
   ]
  },
  {
   "cell_type": "markdown",
   "metadata": {
    "vscode": {
     "languageId": "raw"
    }
   },
   "source": [
    "#  Data Export\n",
    "\n"
   ]
  },
  {
   "cell_type": "code",
   "execution_count": 10,
   "metadata": {},
   "outputs": [
    {
     "data": {
      "text/plain": [
       "Index(['product_id', 'categ', 'week', 'demand', 'price', 'lag_1w', 'lag_2w',\n",
       "       'rolling_mean_4w', 'simple_trend', 'price_change', 'price_change_pct',\n",
       "       'price_vs_category', 'month', 'weekofyear', 'days_to_christmas',\n",
       "       'days_from_christmas', 'cat_demand_volatility'],\n",
       "      dtype='object')"
      ]
     },
     "execution_count": 10,
     "metadata": {},
     "output_type": "execute_result"
    }
   ],
   "source": [
    "df = weekly_df.copy()\n",
    "df.columns"
   ]
  },
  {
   "cell_type": "code",
   "execution_count": 11,
   "metadata": {},
   "outputs": [
    {
     "name": "stdout",
     "output_type": "stream",
     "text": [
      "Creating 2-week ahead target variable...\n",
      "Dataset after removing missing targets: 3,362,112 rows\n",
      "Features for training: ['price', 'lag_1w', 'lag_2w', 'rolling_mean_4w', 'price_change', 'price_change_pct', 'month', 'weekofyear', 'days_to_christmas', 'days_from_christmas', 'cat_demand_volatility', 'simple_trend', 'price_vs_category']\n",
      "Target variable: target_2w (demand 2 weeks ahead)\n"
     ]
    }
   ],
   "source": [
    "# Create proper 2-week ahead target variable\n",
    "print(\"Creating 2-week ahead target variable...\")\n",
    "df['target_2w'] = df.groupby('product_id')['demand'].shift(-2)\n",
    "\n",
    "# Remove rows where target is not available (last 2 weeks per product)\n",
    "df_clean = df.dropna(subset=['target_2w']).copy()\n",
    "print(f\"Dataset after removing missing targets: {len(df_clean):,} rows\")\n",
    "\n",
    "# Remove current demand from features to avoid leakage\n",
    "features_to_train = ['price', 'lag_1w', 'lag_2w',\n",
    "       'rolling_mean_4w', 'price_change', 'price_change_pct', 'month',\n",
    "       'weekofyear', 'days_to_christmas', 'days_from_christmas',\n",
    "       'cat_demand_volatility', 'simple_trend', 'price_vs_category']\n",
    "\n",
    "print(f\"Features for training: {features_to_train}\")\n",
    "print(f\"Target variable: target_2w (demand 2 weeks ahead)\")"
   ]
  },
  {
   "cell_type": "code",
   "execution_count": 12,
   "metadata": {},
   "outputs": [
    {
     "name": "stdout",
     "output_type": "stream",
     "text": [
      "🚀 TRAINING MODEL WITH 2-WEEK AHEAD TARGET\n",
      "============================================================\n",
      "Using 2-week ahead target variable for training...\n",
      " Features shape: (3362112, 13)\n",
      " Target shape: (3362112,)\n",
      " Target range: 0.0000 to 59.0000\n",
      "\n",
      " Creating time-based train/test split for time series...\n",
      "   Training set: 2,715,552 samples\n",
      "   Test set: 646,560 samples\n",
      "   Split date: 2018-04-02 00:00:00\n",
      "\n",
      "Training LightGBM model for 2-week ahead forecasting...\n",
      "✅ Model training complete!\n",
      "\n",
      " MODEL PERFORMANCE (2-WEEK AHEAD FORECASTING):\n",
      "   Mean Absolute Error: 0.0780\n",
      "   R² Score: 0.1314\n",
      "   Model explains 13.1% of demand variation\n",
      "   Average actual demand: 0.0485\n",
      "   Average predicted demand: 0.0434\n",
      "\n",
      " PREDICTION SANITY CHECK:\n",
      "   Negative predictions: 5\n",
      "   Zero predictions: 0\n",
      "   Positive predictions: 646555\n",
      "   ✅ Negative predictions set to 0\n"
     ]
    }
   ],
   "source": [
    "print(\"🚀 TRAINING MODEL WITH 2-WEEK AHEAD TARGET\")\n",
    "print(\"=\" * 60)\n",
    "\n",
    "print(\"Using 2-week ahead target variable for training...\")\n",
    "#  Use clean dataset and proper target variable\n",
    "X = df_clean[features_to_train]\n",
    "y = df_clean['target_2w']\n",
    "\n",
    "print(f\" Features shape: {X.shape}\")\n",
    "print(f\" Target shape: {y.shape}\")\n",
    "print(f\" Target range: {y.min():.4f} to {y.max():.4f}\")\n",
    "\n",
    "#  Proper time-based split for time series\n",
    "print(\"\\n Creating time-based train/test split for time series...\")\n",
    "split_date = df_clean['week'].quantile(0.8)  # 80% for training\n",
    "train_mask = df_clean['week'] <= split_date\n",
    "test_mask = df_clean['week'] > split_date\n",
    "\n",
    "X_train, X_test = X[train_mask], X[test_mask]\n",
    "y_train, y_test = y[train_mask], y[test_mask]\n",
    "\n",
    "print(f\"   Training set: {len(X_train):,} samples\")\n",
    "print(f\"   Test set: {len(X_test):,} samples\")\n",
    "print(f\"   Split date: {split_date}\")\n",
    "\n",
    "print(f\"\\nTraining LightGBM model for 2-week ahead forecasting...\")\n",
    "model = LGBMRegressor(\n",
    "    n_estimators=100,\n",
    "    max_depth=6,\n",
    "    learning_rate=0.1,\n",
    "    random_state=42,\n",
    "    n_jobs=-1,\n",
    "    verbose=-1\n",
    ")\n",
    "\n",
    "# Train the model\n",
    "model.fit(X_train, y_train)\n",
    "print(\"✅ Model training complete!\")\n",
    "\n",
    "# Make predictions\n",
    "y_pred = model.predict(X_test)\n",
    "\n",
    "# Evaluate performance\n",
    "mae = mean_absolute_error(y_test, y_pred)\n",
    "r2 = r2_score(y_test, y_pred)\n",
    "\n",
    "print(f\"\\n MODEL PERFORMANCE (2-WEEK AHEAD FORECASTING):\")\n",
    "print(f\"   Mean Absolute Error: {mae:.4f}\")\n",
    "print(f\"   R² Score: {r2:.4f}\")\n",
    "print(f\"   Model explains {r2*100:.1f}% of demand variation\")\n",
    "print(f\"   Average actual demand: {y_test.mean():.4f}\")\n",
    "print(f\"   Average predicted demand: {y_pred.mean():.4f}\")\n",
    "\n",
    "# Check for realistic predictions\n",
    "print(f\"\\n PREDICTION SANITY CHECK:\")\n",
    "print(f\"   Negative predictions: {(y_pred < 0).sum()}\")\n",
    "print(f\"   Zero predictions: {(y_pred == 0).sum()}\")\n",
    "print(f\"   Positive predictions: {(y_pred > 0).sum()}\")\n",
    "\n",
    "# Replace negative predictions with 0 (demand cannot be negative)\n",
    "y_pred = np.maximum(y_pred, 0)\n",
    "print(f\"   ✅ Negative predictions set to 0\")"
   ]
  },
  {
   "cell_type": "code",
   "execution_count": null,
   "metadata": {},
   "outputs": [],
   "source": []
  },
  {
   "cell_type": "raw",
   "metadata": {
    "vscode": {
     "languageId": "raw"
    }
   },
   "source": [
    "from catboost import CatBoostRegressor\n",
    "\n",
    "print(f\"\\nTraining CatBoost model for 2-week ahead forecasting...\")\n",
    "\n",
    "model = CatBoostRegressor(\n",
    "    iterations=100,\n",
    "    depth=6,\n",
    "    learning_rate=0.1,\n",
    "    random_seed=42,\n",
    "    verbose=False,\n",
    "    thread_count=-1\n",
    ")\n",
    "\n",
    "# Train the model\n",
    "model.fit(X_train, y_train)\n",
    "print(\"✅ Model training complete!\")\n",
    "\n",
    "# Make predictions\n",
    "y_pred = model.predict(X_test)\n",
    "\n",
    "# Evaluate performance\n",
    "mae = mean_absolute_error(y_test, y_pred)\n",
    "r2 = r2_score(y_test, y_pred)\n",
    "\n",
    "print(f\"\\n MODEL PERFORMANCE (2-WEEK AHEAD FORECASTING):\")\n",
    "print(f\"   Mean Absolute Error: {mae:.4f}\")\n",
    "print(f\"   R² Score: {r2:.4f}\")\n",
    "print(f\"   Model explains {r2*100:.1f}% of demand variation\")\n",
    "print(f\"   Average actual demand: {y_test.mean():.4f}\")\n",
    "print(f\"   Average predicted demand: {y_pred.mean():.4f}\")\n",
    "\n",
    "# Check for realistic predictions\n",
    "print(f\"\\n PREDICTION SANITY CHECK:\")\n",
    "print(f\"   Negative predictions: {(y_pred < 0).sum()}\")\n",
    "print(f\"   Zero predictions: {(y_pred == 0).sum()}\")\n",
    "print(f\"   Positive predictions: {(y_pred > 0).sum()}\")\n",
    "\n",
    "# Replace negative predictions with 0 (demand cannot be negative)\n",
    "y_pred = np.maximum(y_pred, 0)\n",
    "print(f\"   ✅ Negative predictions set to 0\")\n",
    "\n"
   ]
  },
  {
   "cell_type": "code",
   "execution_count": 13,
   "metadata": {},
   "outputs": [],
   "source": [
    "def evaluate(y_true, y_pred):\n",
    "    rmsle = np.sqrt(mean_squared_log_error(y_true, np.maximum(y_pred, 0)))\n",
    "    r2 = r2_score(y_true, y_pred)\n",
    "    mae = mean_absolute_error(y_test, y_pred)\n",
    "    return rmsle, r2, mae"
   ]
  },
  {
   "cell_type": "code",
   "execution_count": 15,
   "metadata": {},
   "outputs": [
    {
     "name": "stdout",
     "output_type": "stream",
     "text": [
      "   Training set: 2,715,552 samples\n",
      "   Test set: 646,560 samples\n",
      "   Split date: 2018-04-02 00:00:00\n",
      "\n",
      " MODEL PERFORMANCE (2-WEEK AHEAD FORECASTING):\n",
      "   Mean Absolute Error: 0.0773\n",
      "   rmsle  Score: 0.1540\n",
      "   R² Score: 0.1435\n",
      "   Model explains 14.4% of demand variation\n",
      "   Average actual demand: 0.0485\n",
      "   Average predicted demand: 0.0419\n",
      "\n",
      " PREDICTION SANITY CHECK:\n",
      "   Negative predictions: 3\n",
      "   Zero predictions: 0\n",
      "   Positive predictions: 646557\n"
     ]
    }
   ],
   "source": [
    "from catboost import CatBoostRegressor\n",
    "\n",
    "features_catboost = features_to_train + ['categ']\n",
    "\n",
    "X = df_clean[features_catboost]\n",
    "y = df_clean['target_2w']\n",
    "\n",
    "# Split train/test as before\n",
    "split_date = df_clean['week'].quantile(0.8)\n",
    "train_mask = df_clean['week'] <= split_date\n",
    "test_mask = df_clean['week'] > split_date\n",
    "\n",
    "X_train, X_test = X[train_mask], X[test_mask]\n",
    "y_train, y_test = y[train_mask], y[test_mask]\n",
    "\n",
    "print(f\"   Training set: {len(X_train):,} samples\")\n",
    "print(f\"   Test set: {len(X_test):,} samples\")\n",
    "print(f\"   Split date: {split_date}\")\n",
    "\n",
    "\n",
    "model = CatBoostRegressor(\n",
    "    iterations=100,\n",
    "    depth=6,\n",
    "    learning_rate=0.1,\n",
    "    random_seed=42,\n",
    "    verbose=False,\n",
    "    thread_count=-1\n",
    ")\n",
    "\n",
    "# Train specifying categorical features by index\n",
    "model.fit(X_train, y_train, cat_features=['categ'])\n",
    "\n",
    "\n",
    "# Make predictions\n",
    "y_pred = model.predict(X_test)\n",
    "\n",
    "# Evaluate performance\n",
    "rmsle, r2, mae = evaluate(y_test, y_pred)\n",
    "\n",
    "print(f\"\\n MODEL PERFORMANCE (2-WEEK AHEAD FORECASTING):\")\n",
    "print(f\"   Mean Absolute Error: {mae:.4f}\")\n",
    "print(f\"   rmsle  Score: {rmsle:.4f}\")\n",
    "print(f\"   R² Score: {r2:.4f}\")\n",
    "print(f\"   Model explains {r2*100:.1f}% of demand variation\")\n",
    "print(f\"   Average actual demand: {y_test.mean():.4f}\")\n",
    "print(f\"   Average predicted demand: {y_pred.mean():.4f}\")\n",
    "\n",
    "# Check for realistic predictions\n",
    "print(f\"\\n PREDICTION SANITY CHECK:\")\n",
    "print(f\"   Negative predictions: {(y_pred < 0).sum()}\")\n",
    "print(f\"   Zero predictions: {(y_pred == 0).sum()}\")\n",
    "print(f\"   Positive predictions: {(y_pred > 0).sum()}\")\n",
    "\n"
   ]
  },
  {
   "cell_type": "code",
   "execution_count": 16,
   "metadata": {},
   "outputs": [
    {
     "data": {
      "image/png": "[encoded data removed]",
      "text/plain": [
       "<Figure size 1500x1200 with 4 Axes>"
      ]
     },
     "metadata": {},
     "output_type": "display_data"
    }
   ],
   "source": [
    "from model_utils import plot_prediction_dashboard\n",
    "\n",
    "plot_prediction_dashboard(y_test, y_pred)"
   ]
  },
  {
   "cell_type": "markdown",
   "metadata": {},
   "source": [
    "# Short Reflexion: Weekly Aggregation Results\n",
    "\n",
    "#### Performance Improvement Analysis ####\n",
    "\n",
    "- **R² improvement:** 3.8% → 13.1% (3.4x better)\n",
    "- **Sparsity reduction:** Daily → Weekly aggregation successfully reduced the some of zero problem\n",
    "- **Still insufficient:**  13.1% R² means the model explains only 13% of demand variation\n",
    "\n",
    "\n",
    "#### Why Performance Remains Poor ####\n",
    "- **Inherent Demand Volatility:** E-commerce demand is naturally intermittent and hard to predict\n",
    "- **Product-level Granularity:** Individual products have erratic patterns; category-level might work better\n",
    "\n",
    "#### Recommendations ####\n",
    "- **Try Category-Level Forecasting**\n"
   ]
  },
  {
   "cell_type": "markdown",
   "metadata": {},
   "source": []
  },
  {
   "cell_type": "code",
   "execution_count": null,
   "metadata": {},
   "outputs": [],
   "source": []
  }
 ],
 "metadata": {
  "kernelspec": {
   "display_name": "demand_forecast_env",
   "language": "python",
   "name": "python3"
  },
  "language_info": {
   "codemirror_mode": {
    "name": "ipython",
    "version": 3
   },
   "file_extension": ".py",
   "mimetype": "text/x-python",
   "name": "python",
   "nbconvert_exporter": "python",
   "pygments_lexer": "ipython3",
   "version": "3.12.11"
  }
 },
 "nbformat": 4,
 "nbformat_minor": 4
}
