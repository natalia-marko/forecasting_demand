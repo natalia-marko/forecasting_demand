{
 "cells": [
  {
   "cell_type": "code",
   "execution_count": null,
   "id": "a928ab8d-c154-4e00-b1c8-309b66cf9dcf",
   "metadata": {},
   "outputs": [],
   "source": [
    "import pandas as pd\n",
    "import numpy as np\n",
    "import matplotlib.pyplot as plt\n",
    "import warnings\n",
    "from sklearn.model_selection import train_test_split\n",
    "from sklearn.metrics import mean_absolute_error\n",
    "from statsmodels.tsa.statespace.sarimax import SARIMAX\n",
    "import ipywidgets as widgets\n",
    "from IPython.display import display\n",
    "\n",
    "warnings.filterwarnings(\"ignore\", category=FutureWarning)"
   ]
  },
  {
   "cell_type": "markdown",
   "id": "05a4ea42-3a41-4e97-bc6b-75b436e0e834",
   "metadata": {},
   "source": [
    "# define custom functions"
   ]
  },
  {
   "cell_type": "code",
   "execution_count": null,
   "id": "f9ad3223-fc1a-4f72-b8b7-02733b5efbb3",
   "metadata": {},
   "outputs": [],
   "source": [
    "def fill_missing_dates(df):\n",
    "    start_date = df['order_date'].min()\n",
    "    end_date = df['order_date'].max()\n",
    "    categories = df['categ'].unique()\n",
    "    full_dates = pd.date_range(start=start_date, end=end_date, freq='D')\n",
    "    \n",
    "    filled_df = pd.DataFrame()\n",
    "    for category in categories:\n",
    "        cat_data = df[df['categ'] == category].copy()\n",
    "        cat_data.set_index('order_date', inplace=True)\n",
    "        cat_data.index = pd.to_datetime(cat_data.index)\n",
    "        cat_data = cat_data.reindex(full_dates, fill_value=0).asfreq('D')\n",
    "        cat_data['categ'] = category\n",
    "        filled_df = pd.concat([filled_df, cat_data])\n",
    "    \n",
    "    filled_df.reset_index(inplace=True)\n",
    "    filled_df.rename(columns={'index': 'order_date'}, inplace=True)\n",
    "    return filled_df\n",
    "\n",
    "def create_mae_widget(mae_df):\n",
    "    def display_mae(category):\n",
    "        mae_value = mae_df[mae_df['category'] == category]['MAE'].values[0]\n",
    "        print(f'MAE for {category}: {mae_value}')\n",
    "\n",
    "    category_dropdown = widgets.Dropdown(\n",
    "        options=mae_df['category'].tolist(),\n",
    "        description='Category:',\n",
    "        disabled=False)\n",
    "\n",
    "    interactive_mae = widgets.interactive(display_mae, category=category_dropdown)\n",
    "    display(interactive_mae)\n",
    "\n",
    "def create_forecast_widget(forecast_df):\n",
    "    def display_forecast(category):\n",
    "        filtered_df = forecast_df[forecast_df['categ'] == category]\n",
    "        display(filtered_df)\n",
    "\n",
    "    category_dropdown = widgets.Dropdown(\n",
    "        options=forecast_df['categ'].unique().tolist(),\n",
    "        description='Category:',\n",
    "        disabled=False)\n",
    "\n",
    "    interactive_forecast = widgets.interactive(display_forecast, category=category_dropdown)\n",
    "    display(interactive_forecast)\n"
   ]
  },
  {
   "cell_type": "markdown",
   "id": "8395b569-e9ec-4991-ba71-e7b62126643f",
   "metadata": {},
   "source": [
    "# Load data"
   ]
  },
  {
   "cell_type": "code",
   "execution_count": null,
   "id": "df5780d9-1f3a-437c-b2f9-72c81ceb87d3",
   "metadata": {},
   "outputs": [],
   "source": [
    "demand_data = pd.read_csv('/Users/nataliamarko/Documents/jobs_applications/test_Smart_business/S_Data/category_data.csv')\n",
    "print(demand_data.shape)\n",
    "df = demand_data\n",
    "df"
   ]
  },
  {
   "cell_type": "code",
   "execution_count": null,
   "id": "dc57491d-3917-4e20-b30c-28207be6b4b6",
   "metadata": {},
   "outputs": [],
   "source": [
    "df[df['categ']=='agro_industry_and_commerce']"
   ]
  },
  {
   "cell_type": "markdown",
   "id": "aa8f2c30-0433-4743-9a80-5f1ca628849c",
   "metadata": {},
   "source": [
    "## fill missed dates"
   ]
  },
  {
   "cell_type": "code",
   "execution_count": null,
   "id": "cc48d4aa-e4e1-4efd-9007-e61c50e7f6e2",
   "metadata": {},
   "outputs": [],
   "source": [
    "df = fill_missing_dates(df)\n",
    "df_filled_days_onecateg = df[df['categ'] == 'agro_industry_and_commerce']\n",
    "df_filled_days_onecateg"
   ]
  },
  {
   "cell_type": "code",
   "execution_count": null,
   "id": "9be556f5-110a-4244-ba80-59e58f53292a",
   "metadata": {},
   "outputs": [],
   "source": [
    "cat = 'agro_industry_and_commerce'\n",
    "filtered_data = df[df['categ'] == cat]\n",
    "\n",
    "plt.plot(filtered_data['order_date'], filtered_data['demand'], marker='o', linestyle='-', color='b')\n",
    "plt.title(f'Demand over Time for {cat}')\n",
    "plt.xlabel('Date')\n",
    "plt.ylabel('Demand')\n",
    "plt.grid(True)\n",
    "plt.xticks(rotation=45)\n",
    "plt.tight_layout()\n",
    "plt.show()"
   ]
  },
  {
   "cell_type": "markdown",
   "id": "97e2d903-c93a-4a26-90b1-05d94fcb38a7",
   "metadata": {},
   "source": [
    "## looking for seasonality, p,d,q"
   ]
  },
  {
   "cell_type": "code",
   "execution_count": null,
   "id": "f6fdc0a2-a69f-4513-b4c2-5a9a66d1f952",
   "metadata": {},
   "outputs": [],
   "source": [
    "from scipy.fft import fft\n",
    "from statsmodels.tsa.seasonal import seasonal_decompose\n",
    "\n",
    "def find_domin_freq(df):\n",
    "\n",
    "    decomposition = seasonal_decompose(df, model='additive')\n",
    "\n",
    "    # Extract the seasonal values\n",
    "    seasonal = decomposition.seasonal\n",
    "\n",
    "    # Compute the FFT and frequencies\n",
    "    fft_values = fft(seasonal.values)\n",
    "    frequencies = np.fft.fftfreq(len(fft_values))\n",
    "\n",
    "    # Compute the absolute values to get the magnitudes\n",
    "    fft_magnitudes = np.abs(fft_values)\n",
    "\n",
    "    # Find the index of the peak frequency\n",
    "    # Note: We ignore the first element which is the zero-frequency component\n",
    "    peak_frequency_index = np.argmax(fft_magnitudes[1:]) + 1\n",
    "\n",
    "    # The actual frequency is then\n",
    "    peak_frequency = frequencies[peak_frequency_index]\n",
    "\n",
    "    # # Plot the FFT spectrum\n",
    "    # plt.figure(figsize=(14, 5))\n",
    "    # plt.stem(frequencies[1:], fft_magnitudes[1:], 'b', markerfmt=\" \", basefmt=\"-b\")\n",
    "    # plt.title('FFT Spectrum')\n",
    "    # plt.xlabel('Frequency')\n",
    "    # plt.ylabel('Magnitude')\n",
    "    # plt.show()\n",
    "\n",
    "    # print(f\"The dominant frequency is: {peak_frequency}\")\n",
    "\n",
    "    s = int(1/peak_frequency)\n",
    "\n",
    "    return s"
   ]
  },
  {
   "cell_type": "code",
   "execution_count": null,
   "id": "54a582c5-d43f-41da-8f4a-2d78a0448613",
   "metadata": {},
   "outputs": [],
   "source": [
    "df"
   ]
  },
  {
   "cell_type": "code",
   "execution_count": null,
   "id": "6943885d-2bba-4b0b-b64d-59bc97f42fe4",
   "metadata": {},
   "outputs": [],
   "source": [
    "df['order_date'] = pd.to_datetime(df['order_date'])\n",
    "# Get the list of unique categories\n",
    "categories = df['categ'].unique()\n",
    "\n",
    "for category in categories:\n",
    "    df_category = df[df['categ'] == category].copy()\n",
    "    df_category.set_index('order_date', inplace=True)\n",
    "    s = find_domin_freq(df_category['demand'])\n",
    "    print(f's in category {category}:', s)"
   ]
  },
  {
   "cell_type": "code",
   "execution_count": null,
   "id": "7ebc4999-5d8a-4c8d-9e1d-6b591b06f8b9",
   "metadata": {},
   "outputs": [],
   "source": [
    "df_test = filtered_data.copy()\n",
    "df_test = df_test.set_index('order_date').drop('categ', axis=1)\n",
    "df_test = df_test.asfreq('D').fillna(0)\n",
    "df_test"
   ]
  },
  {
   "cell_type": "code",
   "execution_count": null,
   "id": "1a6d870e-57f9-4a4c-b837-54e7c8c52582",
   "metadata": {},
   "outputs": [],
   "source": [
    "decomposition = seasonal_decompose(df_test, model='additive')\n",
    "\n",
    "# Extract the components\n",
    "trend = decomposition.trend\n",
    "seasonal = decomposition.seasonal\n",
    "residual = decomposition.resid\n",
    "\n",
    "# Plotting the components\n",
    "plt.figure(figsize=(10, 7))\n",
    "\n",
    "plt.subplot(411)\n",
    "plt.plot(df_test['demand'], label='Original', color='blue')\n",
    "plt.title('Original Time Series')\n",
    "plt.legend(loc='upper left')\n",
    "\n",
    "plt.subplot(412)\n",
    "plt.plot(trend, label='Trend', color='orange')\n",
    "plt.title('Trend Component')\n",
    "plt.legend(loc='upper left')\n",
    "\n",
    "plt.subplot(413)\n",
    "plt.plot(seasonal, label='Seasonal', color='green')\n",
    "plt.title('Seasonal Component')\n",
    "plt.legend(loc='upper left')\n",
    "\n",
    "plt.subplot(414)\n",
    "plt.plot(residual, label='Residual', color='red')\n",
    "plt.title('Residual Component')\n",
    "plt.legend(loc='upper left')\n",
    "\n",
    "plt.tight_layout()\n",
    "plt.show()"
   ]
  },
  {
   "cell_type": "code",
   "execution_count": null,
   "id": "ba8995d8-b22c-4b34-b872-7f9a2ec7e1d4",
   "metadata": {},
   "outputs": [],
   "source": [
    "from statsmodels.graphics.tsaplots import plot_pacf\n",
    "plot_pacf(df_test['demand'], lags=40, ax=plt.gca(), title='Partial Autocorrelation Function (PACF)')\n",
    "plt.show()"
   ]
  },
  {
   "cell_type": "code",
   "execution_count": null,
   "id": "27d98649-6e5d-46d1-aed0-c0850fd9ed38",
   "metadata": {},
   "outputs": [],
   "source": [
    "from statsmodels.graphics.tsaplots import plot_acf\n",
    "\n",
    "plot_acf(df_test['demand'], lags=40, ax=plt.gca(), title='Autocorrelation Function (ACF)')\n",
    "plt.show()\n"
   ]
  },
  {
   "cell_type": "markdown",
   "id": "dfe080c6-ac7b-4d4d-9ebf-6c6d812e46c7",
   "metadata": {},
   "source": [
    "## feature engineering"
   ]
  },
  {
   "cell_type": "code",
   "execution_count": null,
   "id": "6d171842-85e3-47b4-bc4f-ae1878025b7b",
   "metadata": {},
   "outputs": [],
   "source": [
    "# add lags and rolling mean(), std()\n",
    "def add_features(df):\n",
    "    for lag in [1, 2, 3, 7]:\n",
    "        df[f'lag_{lag}'] = df.groupby('categ')['demand'].shift(lag)\n",
    "    df['rolling_mean_7'] = df.groupby('categ')['demand'].shift(7).rolling(window=7).mean()\n",
    "    df['rolling_std_7'] = df.groupby('categ')['demand'].shift(7).rolling(window=7).std()\n",
    "    df.fillna(0, inplace=True)\n",
    "    return df\n",
    "\n",
    "df = add_features(df)\n",
    "df[df['categ'] == cat]"
   ]
  },
  {
   "cell_type": "markdown",
   "id": "f8ba2f6d-83ca-4a66-a7cf-e1605028b903",
   "metadata": {},
   "source": [
    "## train data"
   ]
  },
  {
   "cell_type": "code",
   "execution_count": null,
   "id": "87cf7aa2-c185-4a54-9775-abf0d48c5144",
   "metadata": {},
   "outputs": [],
   "source": [
    "# Split data into train and test\n",
    "def split_train_test(df, test_size=90):\n",
    "    train = df.iloc[:-test_size]\n",
    "    test = df.iloc[-test_size:]\n",
    "    return train, test\n",
    "\n",
    "# Define the function to forecast demand and calculate MAE\n",
    "def forecast_demand(df, category, seasonal_order):\n",
    "    try:\n",
    "        # Filter data for the specific category\n",
    "        cat_data = df[df['categ'] == category].copy()\n",
    "\n",
    "        # Prepare the data\n",
    "        cat_data.set_index('order_date', inplace=True)\n",
    "        cat_data.index = pd.to_datetime(cat_data.index).to_period('D')\n",
    "        \n",
    "        # Split into train and test\n",
    "        train, test = split_train_test(cat_data)\n",
    "        \n",
    "        # Ensure there are enough observations in the training set\n",
    "        if len(train) < 30:\n",
    "            print(f\"Skipping category {category} due to insufficient training data\")\n",
    "            return None, None\n",
    "        \n",
    "        # Define the SARIMAX model with exogenous variables\n",
    "        exog_vars = ['lag_1', 'lag_2', 'lag_3', 'lag_7', 'rolling_mean_7', 'rolling_std_7']\n",
    "        model = SARIMAX(train['demand'], \n",
    "                        exog=train[exog_vars],\n",
    "                        order=(1, 1, 1), \n",
    "                        seasonal_order=seasonal_order,\n",
    "                        enforce_stationarity=False, \n",
    "                        enforce_invertibility=False)\n",
    "        \n",
    "        results = model.fit(maxiter=500, pgtol=1e-3, method='lbfgs', disp=False)\n",
    "\n",
    "        # Forecast on test data\n",
    "        test_exog = test[exog_vars]\n",
    "        forecast = results.get_forecast(steps=len(test), exog=test_exog)\n",
    "        forecast_df = forecast.summary_frame()\n",
    "        \n",
    "        # Calculate MAE\n",
    "        mae = mean_absolute_error(test['demand'], forecast_df['mean'])\n",
    "        \n",
    "        # Prepare forecast dataframe for future dates\n",
    "        future_dates = pd.date_range(start=cat_data.index[-1].to_timestamp() + pd.Timedelta(days=1), periods=21, freq='D')\n",
    "        \n",
    "        # Create future exogenous variables for forecasting\n",
    "        last_obs = cat_data.iloc[-1]\n",
    "        future_exog = pd.DataFrame(index=future_dates.to_period('D'))\n",
    "        future_exog['lag_1'] = last_obs['demand']\n",
    "        future_exog['lag_2'] = cat_data['demand'].iloc[-2] if len(cat_data) > 1 else 0\n",
    "        future_exog['lag_3'] = cat_data['demand'].iloc[-3] if len(cat_data) > 2 else 0\n",
    "        future_exog['lag_7'] = cat_data['demand'].iloc[-7] if len(cat_data) > 6 else 0\n",
    "        future_exog['rolling_mean_7'] = cat_data['demand'].iloc[-7:].mean()\n",
    "        future_exog['rolling_std_7'] = cat_data['demand'].iloc[-7:].std()\n",
    "        \n",
    "        # Forecast for the next 14 days with a 7 days gap \n",
    "        future_forecast = results.get_forecast(steps=21, exog=future_exog)\n",
    "        future_forecast_df = future_forecast.summary_frame()\n",
    "        \n",
    "        # Create a DataFrame for future dates\n",
    "        future_df = pd.DataFrame(index=future_dates)\n",
    "        future_df['demand'] = future_forecast_df['mean'].values\n",
    "        future_df.reset_index(inplace=True)\n",
    "        future_df.rename(columns={'index': 'order_date'}, inplace=True)\n",
    "        future_df['categ'] = category\n",
    "\n",
    "        return future_df, mae\n",
    "\n",
    "    except Exception as e:\n",
    "        print(f\"Error in forecasting demand for category {category}: {e}\")\n",
    "        return None, None"
   ]
  },
  {
   "cell_type": "markdown",
   "id": "292ca152-3968-40dd-8bc9-5c5c670f3136",
   "metadata": {},
   "source": [
    "## train & predict"
   ]
  },
  {
   "cell_type": "code",
   "execution_count": null,
   "id": "55cdc6a3-1b59-4d95-83e8-f4cb533aa9d7",
   "metadata": {},
   "outputs": [],
   "source": [
    "# Define the seasonal order\n",
    "seasonal_order = (1, 1, 1, 30)\n",
    "\n",
    "# Get the list of unique categories\n",
    "categories = df['categ'].unique()\n",
    "\n",
    "# Initialize dictionaries to store results\n",
    "forecasts = {}\n",
    "mae_list = []\n",
    "\n",
    "# Loop through each category and forecast\n",
    "for category in categories:\n",
    "    forecast_result, test_mae = forecast_demand(df, category, seasonal_order)\n",
    "    if forecast_result is not None:\n",
    "        forecasts[category] = forecast_result\n",
    "        mae_list.append({'category': category, 'MAE': round(test_mae, 3)})"
   ]
  },
  {
   "cell_type": "code",
   "execution_count": null,
   "id": "12ff5e19-a893-4683-8e20-6438b67b445c",
   "metadata": {},
   "outputs": [],
   "source": [
    "# Combine forecasts into a single DataFrame\n",
    "if forecasts:\n",
    "    forecast_df = pd.concat(forecasts.values(), ignore_index=True)\n",
    "    forecast_df = forecast_df[['order_date', 'demand', 'categ']]\n",
    "    forecast_df['demand'] = forecast_df['demand'].apply(lambda x: max(x, 0)).round(0)\n",
    "    ahead_14_days_forecast = forecast_df.groupby('categ').tail(14)\n",
    "    all_forecast = ahead_14_days_forecast.groupby('order_date').sum().reset_index()\n",
    "    all_forecast['categ'] = 'all'\n",
    "    ahead_14_days_forecast = pd.concat([ahead_14_days_forecast, all_forecast], ignore_index=True)\n",
    "    print(ahead_14_days_forecast)\n",
    "else:\n",
    "    print(\"No valid forecasts generated.\")\n",
    "\n",
    "# Print MAE for each category\n",
    "mae_df = pd.DataFrame(mae_list)\n",
    "mae_df"
   ]
  },
  {
   "cell_type": "markdown",
   "id": "120b99b5-77f5-4dd1-8669-f73297f625af",
   "metadata": {},
   "source": [
    "## evaluate the mdoel"
   ]
  },
  {
   "cell_type": "code",
   "execution_count": null,
   "id": "7d804d02-fe03-4452-8491-5b534d3e7602",
   "metadata": {},
   "outputs": [],
   "source": [
    "# run and select the category to display the mae(mean absolute error) for each category\n",
    "create_mae_widget(mae_df)"
   ]
  },
  {
   "cell_type": "code",
   "execution_count": null,
   "id": "a20ac43a-bc48-43de-80f8-ca4b37bf103f",
   "metadata": {},
   "outputs": [],
   "source": [
    "df['order_date'].max()"
   ]
  },
  {
   "cell_type": "markdown",
   "id": "6ee87c11-0fc3-45eb-8d65-b551705fd4e7",
   "metadata": {},
   "source": [
    "## forecasting ahead 14 days with a 7day lap"
   ]
  },
  {
   "cell_type": "code",
   "execution_count": null,
   "id": "327ecf62-f020-4142-a964-dd0543791795",
   "metadata": {},
   "outputs": [],
   "source": [
    "# run and select the category to display the forecast for each category\n",
    "create_forecast_widget(ahead_14_days_forecast)"
   ]
  },
  {
   "cell_type": "code",
   "execution_count": null,
   "id": "0d4c33a1-6b05-493c-aba0-18b112c72d59",
   "metadata": {},
   "outputs": [],
   "source": []
  },
  {
   "cell_type": "code",
   "execution_count": null,
   "id": "72307de0-fe22-4a47-9104-ecf72c7dd0f8",
   "metadata": {},
   "outputs": [],
   "source": []
  }
 ],
 "metadata": {
  "kernelspec": {
   "display_name": "Python 3 (ipykernel)",
   "language": "python",
   "name": "python3"
  },
  "language_info": {
   "codemirror_mode": {
    "name": "ipython",
    "version": 3
   },
   "file_extension": ".py",
   "mimetype": "text/x-python",
   "name": "python",
   "nbconvert_exporter": "python",
   "pygments_lexer": "ipython3"
  }
 },
 "nbformat": 4,
 "nbformat_minor": 5
}
